{
 "cells": [
  {
   "cell_type": "code",
   "execution_count": 15,
   "metadata": {},
   "outputs": [],
   "source": [
    "\"\"\"\n",
    "The naive bayes model\n",
    "\"\"\"\n",
    "import os\n",
    "import numpy as np\n",
    "from sklearn.naive_bayes import GaussianNB\n",
    "import scikitplot.plotters as skplt\n",
    "import matplotlib.pyplot as plt\n",
    "from DataPreProcessing import doc2Vector\n",
    "\n",
    "def NaiveBayes():\n",
    "    # Reading the data\n",
    "    if not os.path.isfile('./xtraining.npy') or not os.path.isfile('./xtesting.npy') or not os.path.isfile('./ytraining.npy') or not os.path.isfile('./ytesting.npy'):\n",
    "        xtrain,xtest,ytrain,ytest = doc2Vector(\"data/train.csv\")\n",
    "        np.save('./xtraining', xtrain)\n",
    "        np.save('./xtesting', xtest)\n",
    "        np.save('./ytraining', ytrain)\n",
    "        np.save('./ytesting', ytest)\n",
    "    xtrain = np.load('./xtraining.npy')\n",
    "    xtest = np.load('./xtesting.npy')\n",
    "    ytrain = np.load('./ytraining.npy')\n",
    "    ytest = np.load('./ytesting.npy')\n",
    "\n",
    "    # Use the built-in Naive Bayes classifier\n",
    "    gnb = GaussianNB()\n",
    "    gnb.fit(xtrain,ytrain)\n",
    "    y_pred = gnb.predict(xtest)\n",
    "    m = ytest.shape[0]\n",
    "    n = (ytest != y_pred).sum()\n",
    "    print(\"Naive Bayes model accuracy = \" + format((m-n)/m*100, '.2f') + \"%\")   # 72.94%\n",
    "\n",
    "    # Draw the confusion matrix\n",
    "    skplt.plot_confusion_matrix(ytest, y_pred, cmap='PuRd')\n",
    "    plt.title('Naive Bayes Confusion Matrix')\n",
    "    plt.show()\n",
    "\n"
   ]
  },
  {
   "cell_type": "code",
   "execution_count": 16,
   "metadata": {},
   "outputs": [
    {
     "name": "stdout",
     "output_type": "stream",
     "text": [
      "Naive Bayes model accuracy = 72.26%\n"
     ]
    },
    {
     "data": {
      "image/png": "[encoded data removed]",
      "text/plain": [
       "<Figure size 432x288 with 2 Axes>"
      ]
     },
     "metadata": {},
     "output_type": "display_data"
    }
   ],
   "source": [
    "NaiveBayes()"
   ]
  },
  {
   "cell_type": "code",
   "execution_count": null,
   "metadata": {},
   "outputs": [],
   "source": []
  }
 ],
 "metadata": {
  "kernelspec": {
   "display_name": "Python 3",
   "language": "python",
   "name": "python3"
  },
  "language_info": {
   "codemirror_mode": {
    "name": "ipython",
    "version": 3
   },
   "file_extension": ".py",
   "mimetype": "text/x-python",
   "name": "python",
   "nbconvert_exporter": "python",
   "pygments_lexer": "ipython3",
   "version": "3.6.5"
  }
 },
 "nbformat": 4,
 "nbformat_minor": 2
}
