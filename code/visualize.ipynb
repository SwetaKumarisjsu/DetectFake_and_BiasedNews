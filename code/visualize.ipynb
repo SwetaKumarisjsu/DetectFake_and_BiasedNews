{
 "cells": [
  {
   "cell_type": "code",
   "execution_count": 2,
   "metadata": {},
   "outputs": [
    {
     "data": {
      "image/png": "[encoded data removed]",
      "text/plain": [
       "<Figure size 432x288 with 1 Axes>"
      ]
     },
     "metadata": {},
     "output_type": "display_data"
    }
   ],
   "source": [
    "import numpy as np\n",
    "import pandas as pd\n",
    "import matplotlib.pyplot as plt\n",
    "from collections import Counter\n",
    "from sklearn import feature_extraction, model_selection, naive_bayes, metrics, svm\n",
    "\n",
    "import warnings\n",
    "warnings.filterwarnings(\"ignore\")\n",
    "\n",
    "# fake news = 1 \n",
    "unreliable = 1\n",
    "# real news = 0 \n",
    "reliable = 0\n",
    "\n",
    "file_path = 'data2.csv'\n",
    "data = pd.read_csv(file_path)\n",
    "\n",
    "\n",
    "count_Class = pd.value_counts(data[\"v1\"], sort=True)\n",
    "count_Class.plot(kind='bar', color=[\"blue\", \"orange\"])\n",
    "ax = plt.subplot()\n",
    "\n",
    "ax.set_xticklabels(['unrealiable', 'realiable'], rotation=0)\n",
    "plt.title('Bar chart')\n",
    "plt.show()"
   ]
  },
  {
   "cell_type": "code",
   "execution_count": 2,
   "metadata": {},
   "outputs": [],
   "source": [
    "import numpy as np\n",
    "import pandas as pd\n",
    "import matplotlib.pyplot as plt\n",
    "from collections import Counter\n",
    "from sklearn import feature_extraction, model_selection, naive_bayes, metrics, svm\n",
    "# import enchant\n",
    "\n",
    "import warnings\n",
    "\n",
    "warnings.filterwarnings(\"ignore\")\n",
    "\n",
    "# fake news = 1 \n",
    "unreliable = 1\n",
    "# real news = 0 \n",
    "reliable = 0\n",
    "\n",
    "\n",
    "# file path \n",
    "file_path = 'data2.csv'\n",
    "# read \n",
    "data = pd.read_csv(file_path)\n",
    "\n",
    "# define stop words \n",
    "stop_words = ['i', 'me', 'my', 'myself', 'we', 'our', 'ours', 'ourselves', 'you', \"you're\", \"you've\", \"you'll\",\n",
    "                  \"you'd\", 'your', 'yours', 'yourself', 'yourselves', 'he', 'him', 'his', 'himself', 'she', \"she's\",\n",
    "                  'her', 'hers', 'herself', 'it', \"it's\", 'its', 'itself', 'they', 'them', 'their', 'theirs',\n",
    "                  'themselves', 'what', 'which', 'who', 'whom', 'this', 'that', \"that'll\", 'these', 'those', 'am', 'is',\n",
    "                  'are', 'was', 'were', 'be', 'been', 'being', 'have', 'has', 'had', 'having', 'do', 'does', 'did',\n",
    "                  'doing', 'a', 'an', 'the', 'and', 'but', 'if', 'or', 'because', 'as', 'until', 'while', 'of', 'at',\n",
    "                  'by', 'for', 'with', 'about', 'against', 'between', 'into', 'through', 'during', 'before', 'after',\n",
    "                  'above', 'below', 'to', 'from', 'up', 'down', 'in', 'out', 'on', 'off', 'over', 'under', 'again',\n",
    "                  'further', 'then', 'once', 'here', 'there', 'when', 'where', 'why', 'how', 'all', 'any', 'both',\n",
    "                  'each', 'few', 'more', 'most', 'other', 'some', 'such', 'no', 'nor', 'not', 'only', 'own', 'same',\n",
    "                  'so', 'than', 'too', 'very', 's', 't', 'can', 'will', 'just', 'don', \"don't\", 'should', \"should've\",\n",
    "                  'now', 'd', 'll', 'm', 'o', 're', 've', 'y', 'ain', 'aren', \"aren't\", 'couldn', \"couldn't\", 'didn',\n",
    "                  \"didn't\", 'doesn', \"doesn't\", 'hadn', \"hadn't\", 'hasn', \"hasn't\", 'haven', \"haven't\", 'isn', \"isn't\",\n",
    "                  'ma', 'mightn', \"mightn't\", 'mustn', \"mustn't\", 'needn', \"needn't\", 'shan', \"shan't\", 'shouldn',\n",
    "                  \"shouldn't\", 'wasn', \"wasn't\", 'weren', \"weren't\", 'won', \"won't\", 'wouldn', \"wouldn't\", 'also',\n",
    "                  'said', '|', '–', '.', ',']\n",
    "\n",
    "\n",
    "def construct_bag_of_words(data, label):\n",
    "     \n",
    "    def filter_text(text):\n",
    "\n",
    "        lst = []\n",
    "\n",
    "        words = str(text).lower().split(' ')\n",
    "\n",
    "        for word in words:\n",
    "            if word not in stop_words and word not in ['', \"”\", '—']:\n",
    "                lst.append(word)\n",
    "\n",
    "        return lst\n",
    "\n",
    "    length = np.shape(data)[0]\n",
    "    paragraph = ''\n",
    "    for idx in range(length):\n",
    "        n_label = data['v1'][idx]\n",
    "        n_text = data['v2'][idx]\n",
    "\n",
    "        if n_label == label:\n",
    "            paragraph += str(n_text) + ' '\n",
    "\n",
    "    if paragraph != ' ':\n",
    "\n",
    "        filter_words = filter_text(paragraph)\n",
    "        return Counter(filter_words) \n",
    "    else:\n",
    "        raise Exception(\"Error\")\n",
    "\n",
    "# data: csv from pandas \n",
    "# label: data label; fake or real news \n",
    "def plot_words(data, label):\n",
    "    x = construct_bag_of_words(data, label).most_common(20) \n",
    " \n",
    "    df = pd.DataFrame(x, columns=['Word', 'Count'])\n",
    "    df.plot.bar(x='Word')\n",
    "    if type == reliable:\n",
    "        plt.title('Reliable')\n",
    "    else:\n",
    "        plt.title('Unreliable')\n",
    "    plt.show()"
   ]
  },
  {
   "cell_type": "code",
   "execution_count": 3,
   "metadata": {},
   "outputs": [
    {
     "data": {
      "image/png": "[encoded data removed]",
      "text/plain": [
       "<Figure size 432x288 with 1 Axes>"
      ]
     },
     "metadata": {},
     "output_type": "display_data"
    }
   ],
   "source": [
    "plot_words(data, reliable)"
   ]
  },
  {
   "cell_type": "code",
   "execution_count": null,
   "metadata": {},
   "outputs": [],
   "source": [
    "plot_words(data, unreliable)"
   ]
  },
  {
   "cell_type": "code",
   "execution_count": null,
   "metadata": {},
   "outputs": [],
   "source": []
  }
 ],
 "metadata": {
  "kernelspec": {
   "display_name": "Python 3",
   "language": "python",
   "name": "python3"
  },
  "language_info": {
   "codemirror_mode": {
    "name": "ipython",
    "version": 3
   },
   "file_extension": ".py",
   "mimetype": "text/x-python",
   "name": "python",
   "nbconvert_exporter": "python",
   "pygments_lexer": "ipython3",
   "version": "3.6.5"
  }
 },
 "nbformat": 4,
 "nbformat_minor": 2
}
