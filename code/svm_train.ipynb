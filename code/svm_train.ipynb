{
 "cells": [
  {
   "cell_type": "code",
   "execution_count": 11,
   "metadata": {},
   "outputs": [
    {
     "name": "stdout",
     "output_type": "stream",
     "text": [
      "        C  Train Accuracy  Test Accuracy  Test Recall  Test Precision\n",
      "0   500.0        0.998507       0.892424     0.897590        0.889552\n",
      "1   600.0        0.998507       0.892424     0.897590        0.889552\n",
      "2   700.0        0.998507       0.892424     0.897590        0.889552\n",
      "3   800.0        0.998507       0.890909     0.897590        0.886905\n",
      "4   900.0        0.998507       0.889394     0.897590        0.884273\n",
      "5  1000.0        0.998507       0.889394     0.897590        0.884273\n",
      "6  1100.0        0.999254       0.889394     0.897590        0.884273\n",
      "7  1200.0        0.999254       0.887879     0.897590        0.881657\n",
      "8  1300.0        0.999254       0.887879     0.897590        0.881657\n",
      "9  1400.0        0.999254       0.887879     0.894578        0.883929\n"
     ]
    }
   ],
   "source": [
    "import numpy as np\n",
    "import pandas as pd\n",
    "from sklearn import feature_extraction, model_selection, naive_bayes, metrics, svm\n",
    "\n",
    "import warnings\n",
    "warnings.filterwarnings(\"ignore\")\n",
    "\n",
    "data = pd.read_csv('data2.csv')\n",
    "\n",
    "# init models \n",
    "f = feature_extraction.text.CountVectorizer(stop_words='english')\n",
    "X = f.fit_transform(data[\"v2\"].values.astype('U'))\n",
    "\n",
    "X_train, X_test, y_train, y_test = model_selection.train_test_split(X, data['v1'], test_size=0.33, random_state=42)\n",
    "\n",
    "\n",
    "# init arrays \n",
    "Cs = np.arange(500, 2000, 100)  \n",
    "score_train = np.zeros(len(Cs))\n",
    "score_test = np.zeros(len(Cs))\n",
    "recall_test = np.zeros(len(Cs))\n",
    "precision_test= np.zeros(len(Cs))\n",
    "\n",
    "\n",
    "def train_svm(C, at_index):\n",
    "    svc = svm.SVC(C=C)\n",
    "    svc.fit(X_train, y_train)\n",
    "    score_train[at_index] = svc.score(X_train, y_train)\n",
    "    score_test[at_index]= svc.score(X_test, y_test)\n",
    "    recall_test[at_index] = metrics.recall_score(y_test, svc.predict(X_test))\n",
    "    precision_test[at_index] = metrics.precision_score(y_test, svc.predict(X_test))\n",
    "\n",
    "# test SVM C \n",
    "for idx in range(len(Cs)):\n",
    "    train_svm(Cs[idx], idx)\n",
    "\n",
    "\n",
    "matrix = np.matrix(np.c_[Cs, score_train, score_test, recall_test, precision_test])\n",
    "models = pd.DataFrame(data = matrix, columns =\n",
    "             ['C', 'Train Accuracy', 'Test Accuracy', 'Test Recall', 'Test Precision'])\n",
    "\n",
    "# top 10 \n",
    "models.head(n=10)"
   ]
  },
  {
   "cell_type": "code",
   "execution_count": null,
   "metadata": {},
   "outputs": [],
   "source": []
  }
 ],
 "metadata": {
  "kernelspec": {
   "display_name": "Python 3",
   "language": "python",
   "name": "python3"
  },
  "language_info": {
   "codemirror_mode": {
    "name": "ipython",
    "version": 3
   },
   "file_extension": ".py",
   "mimetype": "text/x-python",
   "name": "python",
   "nbconvert_exporter": "python",
   "pygments_lexer": "ipython3",
   "version": "3.6.5"
  }
 },
 "nbformat": 4,
 "nbformat_minor": 2
}
