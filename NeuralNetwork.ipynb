{
 "cells": [
  {
   "cell_type": "code",
   "execution_count": 7,
   "metadata": {},
   "outputs": [],
   "source": [
    "\"\"\"\n",
    "The Neural Network model\n",
    "\"\"\"\n",
    "\n",
    "import keras\n",
    "import numpy as np\n",
    "import os\n",
    "from keras import backend as K\n",
    "from keras.utils import np_utils\n",
    "from keras.models import Sequential\n",
    "from keras.layers import Dense, Dropout, LSTM, Embedding, Input, RepeatVector\n",
    "from keras.optimizers import SGD\n",
    "from sklearn.preprocessing import LabelEncoder\n",
    "from sklearn.model_selection import train_test_split\n",
    "import scikitplot.plotters as skplt\n",
    "import matplotlib.pyplot as plt\n",
    "from DataPreProcessing import doc2Vector\n",
    "\n",
    "\n",
    "def baseline_model():\n",
    "    '''3 hidden layers of Neural network'''\n",
    "    model = Sequential()\n",
    "    model.add(Dense(256, input_dim=300, activation='relu', kernel_initializer='normal'))\n",
    "    model.add(Dropout(0.3))\n",
    "    model.add(Dense(256, activation='relu', kernel_initializer='normal'))\n",
    "    model.add(Dropout(0.5))\n",
    "    model.add(Dense(80, activation='relu', kernel_initializer='normal'))\n",
    "    model.add(Dense(2, activation=\"softmax\", kernel_initializer='normal'))\n",
    "\n",
    "    # gradient descent\n",
    "    sgd = SGD(lr=0.01, decay=1e-6, momentum=0.9, nesterov=True)\n",
    "    \n",
    "    # configure the learning process of the model\n",
    "    model.compile(loss='categorical_crossentropy', optimizer=sgd, metrics=['accuracy'])\n",
    "    return model\n",
    "\n",
    "def NN():\n",
    "    \n",
    "    if not os.path.isfile('./xtraining.npy') or not os.path.isfile('./xtesting.npy') or not os.path.isfile('./ytraining.npy') or not os.path.isfile('./ytesting.npy'):\n",
    "        xtrain,xtest,ytrain,ytest = doc2Vector(\"data/train.csv\")\n",
    "        np.save('./xtraining', xtrain)\n",
    "        np.save('./xtesting', xtest)\n",
    "        np.save('./ytraining', ytrain)\n",
    "        np.save('./ytesting', ytest)\n",
    "    xtrain = np.load('./xtraining.npy')\n",
    "    xtest = np.load('./xtesting.npy')\n",
    "    ytrain = np.load('./ytraining.npy')\n",
    "    ytest = np.load('./ytesting.npy')\n",
    "    \n",
    "    # Train the model\n",
    "    model = baseline_model()\n",
    "    #model.summary()\n",
    "    x_train, x_test, y_train, y_test = train_test_split(xtrain, ytrain, test_size=0.2, random_state=42)\n",
    "    label_encoder = LabelEncoder()\n",
    "    label_encoder.fit(y_train)\n",
    "    encoded_y = np_utils.to_categorical((label_encoder.transform(y_train)))\n",
    "    label_encoder.fit(y_test)\n",
    "    encoded_y_test = np_utils.to_categorical((label_encoder.transform(y_test)))\n",
    "    estimator = model.fit(x_train, encoded_y, epochs=20, batch_size=64)\n",
    "    print(\"Model Trained!\")\n",
    "    score = model.evaluate(x_test, encoded_y_test)\n",
    "    print(\"\")\n",
    "    print(\"Neural Network model accuracy = \" + format(score[1]*100, '.2f') + \"%\")\n",
    "    probabs = model.predict_proba(x_test)\n",
    "    y_pred = np.argmax(probabs, axis=1) \n",
    "    # Plotting the confusion matrix for Neural Network model\n",
    "    skplt.plot_confusion_matrix(y_test, y_pred, cmap='PuRd')\n",
    "    plt.title('Neural Network Confusion Matrix')\n",
    "    plt.show()"
   ]
  },
  {
   "cell_type": "code",
   "execution_count": 8,
   "metadata": {},
   "outputs": [
    {
     "name": "stdout",
     "output_type": "stream",
     "text": [
      "Epoch 1/20\n",
      "13286/13286 [==============================] - 1s 74us/step - loss: 0.5110 - acc: 0.7483\n",
      "Epoch 2/20\n",
      "13286/13286 [==============================] - 1s 58us/step - loss: 0.2859 - acc: 0.8840\n",
      "Epoch 3/20\n",
      "13286/13286 [==============================] - 1s 56us/step - loss: 0.2544 - acc: 0.8989\n",
      "Epoch 4/20\n",
      "13286/13286 [==============================] - 1s 56us/step - loss: 0.2401 - acc: 0.9043\n",
      "Epoch 5/20\n",
      "13286/13286 [==============================] - 1s 50us/step - loss: 0.2252 - acc: 0.9086\n",
      "Epoch 6/20\n",
      "13286/13286 [==============================] - 1s 54us/step - loss: 0.2114 - acc: 0.9170: 0s - loss: 0.2131 -\n",
      "Epoch 7/20\n",
      "13286/13286 [==============================] - 1s 56us/step - loss: 0.2043 - acc: 0.9213\n",
      "Epoch 8/20\n",
      "13286/13286 [==============================] - 1s 51us/step - loss: 0.1967 - acc: 0.9234\n",
      "Epoch 9/20\n",
      "13286/13286 [==============================] - 1s 54us/step - loss: 0.1825 - acc: 0.9294\n",
      "Epoch 10/20\n",
      "13286/13286 [==============================] - 1s 55us/step - loss: 0.1765 - acc: 0.9297\n",
      "Epoch 11/20\n",
      "13286/13286 [==============================] - 1s 52us/step - loss: 0.1696 - acc: 0.9353\n",
      "Epoch 12/20\n",
      "13286/13286 [==============================] - 1s 54us/step - loss: 0.1613 - acc: 0.9359\n",
      "Epoch 13/20\n",
      "13286/13286 [==============================] - 1s 55us/step - loss: 0.1527 - acc: 0.9413\n",
      "Epoch 14/20\n",
      "13286/13286 [==============================] - 1s 54us/step - loss: 0.1513 - acc: 0.9400\n",
      "Epoch 15/20\n",
      "13286/13286 [==============================] - 1s 57us/step - loss: 0.1519 - acc: 0.9412\n",
      "Epoch 16/20\n",
      "13286/13286 [==============================] - 1s 59us/step - loss: 0.1386 - acc: 0.9457\n",
      "Epoch 17/20\n",
      "13286/13286 [==============================] - 1s 63us/step - loss: 0.1354 - acc: 0.9481\n",
      "Epoch 18/20\n",
      "13286/13286 [==============================] - 1s 71us/step - loss: 0.1281 - acc: 0.9504\n",
      "Epoch 19/20\n",
      "13286/13286 [==============================] - 1s 59us/step - loss: 0.1248 - acc: 0.9509\n",
      "Epoch 20/20\n",
      "13286/13286 [==============================] - 1s 58us/step - loss: 0.1245 - acc: 0.9530\n",
      "Model Trained!\n",
      "3322/3322 [==============================] - 0s 54us/step\n",
      "\n",
      "Neural Network model accuracy = 91.93%\n"
     ]
    },
    {
     "data": {
      "image/png": "[encoded data removed]",
      "text/plain": [
       "<Figure size 432x288 with 2 Axes>"
      ]
     },
     "metadata": {},
     "output_type": "display_data"
    }
   ],
   "source": [
    "NN()"
   ]
  },
  {
   "cell_type": "code",
   "execution_count": null,
   "metadata": {},
   "outputs": [],
   "source": []
  }
 ],
 "metadata": {
  "kernelspec": {
   "display_name": "Python 3",
   "language": "python",
   "name": "python3"
  },
  "language_info": {
   "codemirror_mode": {
    "name": "ipython",
    "version": 3
   },
   "file_extension": ".py",
   "mimetype": "text/x-python",
   "name": "python",
   "nbconvert_exporter": "python",
   "pygments_lexer": "ipython3",
   "version": "3.6.5"
  }
 },
 "nbformat": 4,
 "nbformat_minor": 2
}
