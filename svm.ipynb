{
 "cells": [
  {
   "cell_type": "code",
   "execution_count": 9,
   "metadata": {},
   "outputs": [],
   "source": [
    "\"\"\"\n",
    "The SVM model\n",
    "\"\"\"\n",
    "\n",
    "import numpy as np\n",
    "from sklearn.svm import SVC\n",
    "import matplotlib.pyplot as plt\n",
    "import scikitplot.plotters as skplt\n",
    "import os\n",
    "from DataPreProcessing import doc2Vector\n",
    "\n",
    "def SVM():\n",
    "    # Read the data\n",
    "    if not os.path.isfile('./xtraining.npy') or not os.path.isfile('./xtesting.npy') or not os.path.isfile('./ytraining.npy') or not os.path.isfile('./ytesting.npy'):\n",
    "        xtrain,xtest,ytrain,ytest = doc2Vector(\"data/train.csv\")\n",
    "        np.save('./xtraining', xtrain)\n",
    "        np.save('./xtesting', xtest)\n",
    "        np.save('./ytraining', ytrain)\n",
    "        np.save('./ytesting', ytest)\n",
    "    xtrain = np.load('./xtraining.npy')\n",
    "    xtest = np.load('./xtesting.npy')\n",
    "    ytrain = np.load('./ytraining.npy')\n",
    "    ytest = np.load('./ytesting.npy')\n",
    "\n",
    "    # Use the built-in SVM for classification\n",
    "    clf = SVC()\n",
    "    clf.fit(xtrain, ytrain)\n",
    "    y_pred = clf.predict(xtest)\n",
    "    m = ytest.shape[0]\n",
    "    n = (ytest != y_pred).sum()\n",
    "    print(\"SVM model accuracy = \" + format((m-n)/m*100, '.2f') + \"%\")   # 88.42%\n",
    "\n",
    "    # Draw the confusion matrix\n",
    "    skplt.plot_confusion_matrix(ytest, y_pred, cmap='PuRd')\n",
    "    plt.title('SVM Confusion Matrix')\n",
    "    plt.show()\n",
    "\n"
   ]
  },
  {
   "cell_type": "code",
   "execution_count": null,
   "metadata": {},
   "outputs": [],
   "source": [
    "SVM()"
   ]
  },
  {
   "cell_type": "code",
   "execution_count": null,
   "metadata": {},
   "outputs": [],
   "source": []
  }
 ],
 "metadata": {
  "kernelspec": {
   "display_name": "Python 3",
   "language": "python",
   "name": "python3"
  },
  "language_info": {
   "codemirror_mode": {
    "name": "ipython",
    "version": 3
   },
   "file_extension": ".py",
   "mimetype": "text/x-python",
   "name": "python",
   "nbconvert_exporter": "python",
   "pygments_lexer": "ipython3",
   "version": "3.6.5"
  }
 },
 "nbformat": 4,
 "nbformat_minor": 2
}
